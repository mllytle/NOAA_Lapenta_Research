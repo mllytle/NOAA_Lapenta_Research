{
 "cells": [
  {
   "cell_type": "markdown",
   "metadata": {},
   "source": [
    "Init"
   ]
  },
  {
   "cell_type": "code",
   "execution_count": 1,
   "metadata": {},
   "outputs": [],
   "source": [
    "import skyfield\n",
    "import numpy as np\n",
    "import math\n",
    "import pandas as pd\n",
    "from skyfield.api import load, wgs84\n",
    "from skyfield.framelib import itrs\n",
    "from datetime import timedelta, datetime\n",
    "import pytz\n",
    "\n",
    "def loadingbar(percentage):\n",
    "    loads = ''\n",
    "    num_loads = int(np.floor(percentage*10))\n",
    "    for ii in range(num_loads):\n",
    "        loads += '#'\n",
    "    bar = 'Loading: [{0:<10}] {1:.2f}% complete'.format(loads, percentage*100)\n",
    "    print(bar, end = '\\r')\n",
    "\n",
    "ts = load.timescale()\n",
    "re = 6378 #km"
   ]
  },
  {
   "cell_type": "markdown",
   "metadata": {},
   "source": [
    "Params"
   ]
  },
  {
   "cell_type": "code",
   "execution_count": 2,
   "metadata": {},
   "outputs": [],
   "source": [
    "# Enter NORAD Catalog Numbers:\n",
    "ISS_satnum = 25544\n",
    "NOAA20_satnum = 43013\n",
    "\n",
    "# Enter Appropriate Timeframe of Pass, dates (YYYY,MM,DD,HR,M)\n",
    "t0 = datetime(2022, 6, 1, 0, 0, 0, 0, pytz.UTC)\n",
    "    #'6/1/2022'\n",
    "t1 = datetime(2022, 7, 1, 0, 0, 0, 0, pytz.UTC)\n",
    "    #'7/1/2022'\n",
    "    #t0 = ts.tt(2022,6,1)\n",
    "    #t1 = ts.tt(2022,7,1)\n",
    "\n",
    "# Enter Time Scale Resolution\n",
    "ts_freq = 'S'\n",
    "\n",
    "# Enter pass distance between sats\n",
    "dist_pass = 50"
   ]
  },
  {
   "cell_type": "markdown",
   "metadata": {},
   "source": [
    "Find SNOs"
   ]
  },
  {
   "cell_type": "code",
   "execution_count": 3,
   "metadata": {},
   "outputs": [
    {
     "name": "stderr",
     "output_type": "stream",
     "text": [
      "[#################################] 100% tle-CATNR-25544.txt\n",
      "[#################################] 100% tle-CATNR-43013.txt\n"
     ]
    }
   ],
   "source": [
    "# Get TLEs\n",
    "url1 = 'https://celestrak.com/NORAD/elements/gp.php?CATNR={}'.format(ISS_satnum)\n",
    "filename1 = 'tle-CATNR-{}.txt'.format(ISS_satnum)\n",
    "ISS_tle = load.tle_file(url1, filename = filename1, reload = True)[0]\n",
    "\n",
    "url2 = 'https://celestrak.com/NORAD/elements/gp.php?CATNR={}'.format(NOAA20_satnum)\n",
    "filename2 = 'tle-CATNR-{}.txt'.format(NOAA20_satnum)\n",
    "NOAA20_tle = load.tle_file(url2, filename = filename2, reload = True)[0]\n"
   ]
  },
  {
   "cell_type": "code",
   "execution_count": 4,
   "metadata": {
    "scrolled": true
   },
   "outputs": [],
   "source": [
    "trange1 = pd.date_range(start = t0,end = t1,freq = ts_freq)\n",
    "trange = ts.from_datetimes(trange1)\n",
    "\n",
    "pass_timedist = []\n",
    "ind = 0\n",
    "\n",
    "for ti in trange:\n",
    "    ind +=1\n",
    "    #loadingbar(ind/(len(trange)))\n",
    "    \n",
    "    geoc_rv1 = ISS_tle.at(ti)\n",
    "    lat1,lon1 = wgs84.latlon_of(geoc_rv1) \n",
    "    geoc_rv2 = NOAA20_tle.at(ti)\n",
    "    lat2,lon2 = wgs84.latlon_of(geoc_rv2) \n",
    "    \n",
    "    if 1 < abs(np.sin(lat1.radians)*np.sin(lat2.radians) + np.cos(lat1.radians)*np.cos(lat2.radians)*np.cos(lon2.radians-lon1.radians)):\n",
    "        D = dist_pass\n",
    "    else:\n",
    "        D = re*math.acos(np.sin(lat1.radians)*np.sin(lat2.radians) + np.cos(lat1.radians)*np.cos(lat2.radians)*np.cos(lon2.radians-lon1.radians))\n",
    "\n",
    "    if D < dist_pass:\n",
    "        pass_timedist.append([ti,D])\n",
    "\n",
    "#print(pass_timedist)\n"
   ]
  },
  {
   "cell_type": "code",
   "execution_count": 26,
   "metadata": {},
   "outputs": [
    {
     "name": "stdout",
     "output_type": "stream",
     "text": [
      "['2022-06-10T00:12:48Z', '2022-06-10T00:12:49Z', '2022-06-10T00:12:50Z', '2022-06-10T00:12:51Z', '2022-06-10T00:12:52Z', '2022-06-10T00:12:53Z', '2022-06-10T00:12:54Z', '2022-06-10T00:12:55Z', '2022-06-23T20:27:02Z', '2022-06-23T20:27:03Z', '2022-06-23T20:27:04Z', '2022-06-23T20:27:05Z', '2022-06-23T20:27:06Z', '2022-06-23T20:27:07Z', '2022-06-23T20:27:08Z', '2022-06-25T10:26:23Z', '2022-06-25T10:26:24Z', '2022-06-25T10:26:25Z', '2022-06-25T10:26:26Z']\n"
     ]
    },
    {
     "data": {
      "text/plain": [
       "[<Time tt=2459740.5096896295>, 38.58809721595823]"
      ]
     },
     "execution_count": 26,
     "metadata": {},
     "output_type": "execute_result"
    }
   ],
   "source": [
    "dates = []\n",
    "#type(pass_timedist[0][0])\n",
    "for ii in range(1,20):\n",
    "    dates.append(pass_timedist[ii][0].utc_iso())\n",
    "print(dates)\n",
    "\n",
    "pass_timedist[0:20][1]\n"
   ]
  }
 ],
 "metadata": {
  "kernelspec": {
   "display_name": "Python 3",
   "language": "python",
   "name": "python3"
  },
  "language_info": {
   "codemirror_mode": {
    "name": "ipython",
    "version": 3
   },
   "file_extension": ".py",
   "mimetype": "text/x-python",
   "name": "python",
   "nbconvert_exporter": "python",
   "pygments_lexer": "ipython3",
   "version": "3.7.3"
  }
 },
 "nbformat": 4,
 "nbformat_minor": 2
}
