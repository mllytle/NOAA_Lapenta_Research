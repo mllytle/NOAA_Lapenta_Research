{
 "cells": [
  {
   "cell_type": "markdown",
   "metadata": {},
   "source": [
    "## Init"
   ]
  },
  {
   "cell_type": "code",
   "execution_count": 1,
   "metadata": {},
   "outputs": [],
   "source": [
    "import skyfield\n",
    "import numpy as np\n",
    "import math\n",
    "from skyfield.api import load, wgs84\n",
    "from skyfield.framelib import itrs\n",
    "from datetime import timedelta\n",
    "\n",
    "ts = load.timescale()\n",
    "re = 6378 #km\n",
    "pass_num = 0"
   ]
  },
  {
   "cell_type": "markdown",
   "metadata": {},
   "source": [
    "## Load Data"
   ]
  },
  {
   "cell_type": "markdown",
   "metadata": {},
   "source": [
    "Params"
   ]
  },
  {
   "cell_type": "code",
   "execution_count": 2,
   "metadata": {},
   "outputs": [],
   "source": [
    "# Enter NORAD Catalog Number:\n",
    "sat_num = 25544\n",
    "    # 25544: ISS (ZARYA)\n",
    "    # 47319: CP12 (EXOCUBE 2)\n",
    "    # 43013: NOAA 20\n",
    "    # 37849: Suomi NPP\n",
    "\n",
    "# Enter lat and lon of passes in [degrees]:\n",
    "lat_pass = +27.964157\n",
    "lon_pass = -82.452606\n",
    "    # Tampa: +27.964157, -82.452606\n",
    "    # LA: 34.0522, -118.2437\n",
    "    # Delhi: 28.7041, 77.1025\n",
    "    # Bejing: 39.9042, 116.4074\n",
    "\n",
    "# Enter Max Distance of Pass in [km]:\n",
    "dist_pass = 200\n",
    "\n",
    "# Set Time Frame Flag:\n",
    "tflag = 1\n",
    "    # 0 - find number of passes between today and a future date\n",
    "    # 1 - find number of passes between 2 dates near current epoch\n",
    "    \n",
    "# Enter Appropriate Timeframe of Pass in [days]:\n",
    "if tflag:\n",
    "    # (YYYY,MM,DD,HR,M)\n",
    "    ta = ts.tt(2022,6,20)\n",
    "        # ^ start time\n",
    "    tb = ts.tt(2022,6,30)\n",
    "        # ^ final time\n",
    "        # NOTE: TLE from most recent Epoch will still be used\n",
    "else:\n",
    "    days_pass = 2\n",
    "\n",
    "# Set Angle Flag and Pass Angle in [deg]\n",
    "angflag = 0\n",
    "pass_ang = 28\n",
    "\n",
    "# Additional Flags\n",
    "show_all_passes = 0\n",
    "show_range_passes = 1\n",
    "include_28_56 = 0"
   ]
  },
  {
   "cell_type": "markdown",
   "metadata": {},
   "source": [
    "Celestrak"
   ]
  },
  {
   "cell_type": "code",
   "execution_count": 3,
   "metadata": {},
   "outputs": [
    {
     "name": "stderr",
     "output_type": "stream",
     "text": [
      "\r",
      "[#################################] 100% tle-CATNR-25544.txt\n"
     ]
    }
   ],
   "source": [
    "# Get Data\n",
    "url = 'https://celestrak.com/NORAD/elements/gp.php?CATNR={}'.format(sat_num)\n",
    "filename = 'tle-CATNR-{}.txt'.format(sat_num)\n",
    "sat_tle = load.tle_file(url, filename = filename, reload = True)[0]\n"
   ]
  },
  {
   "cell_type": "markdown",
   "metadata": {},
   "source": [
    "## Get Sat Info"
   ]
  },
  {
   "cell_type": "code",
   "execution_count": 4,
   "metadata": {},
   "outputs": [
    {
     "name": "stdout",
     "output_type": "stream",
     "text": [
      "Last Epoch:  A.D. 2022-Jun-21 09:23:51.5521 UTC\n",
      "Days Since Epoch: 0.3044\n",
      "Current location:  417.7 km alt, -4.671 deg lat, 150.160 deg lon\n"
     ]
    }
   ],
   "source": [
    "# Display Epoch Info\n",
    "print('Last Epoch: ', sat_tle.epoch.utc_jpl())\n",
    "t0 = ts.now()\n",
    "days = t0 - sat_tle.epoch\n",
    "print('Days Since Epoch: {:.4f}'.format(days))\n",
    "\n",
    "# Current Position Data\n",
    "geoc_rv = sat_tle.at(t0)\n",
    "lat,lon = wgs84.latlon_of(geoc_rv) \n",
    "alt = wgs84.height_of(geoc_rv)\n",
    "    # ^ using latest static model\n",
    "    # World Geodetic System 1984, last updated Jan 2021\n",
    "print('Current location: ','{:.1f} km alt,'.format(alt.km),'{:.3f} deg lat,'.format(lat.degrees),'{:.3f} deg lon'.format(lon.degrees))"
   ]
  },
  {
   "cell_type": "code",
   "execution_count": 6,
   "metadata": {
    "scrolled": true
   },
   "outputs": [
    {
     "name": "stdout",
     "output_type": "stream",
     "text": [
      "The number of passes above location ground horizon between the dates entered is: 57\n",
      "2022 Jun 21 18:53:50 culminate 131.02329327244436\n",
      "2022 Jun 22 09:54:46 culminate 98.3714774075635\n",
      "2022 Jun 25 17:18:13 culminate 92.57216915607576\n",
      "2022 Jun 26 08:19:15 culminate 62.40692153298154\n",
      "2022 Jun 29 15:43:12 culminate 64.81335348960226\n",
      "The number of passes within 200.0 km is: 10\n"
     ]
    }
   ],
   "source": [
    "# Find Passes Over Specified Loc\n",
    "loc = wgs84.latlon(lat_pass,lon_pass)\n",
    "ang = 0;\n",
    "\n",
    "if tflag:\n",
    "    t0 = ta\n",
    "    t1 = tb\n",
    "    \n",
    "    t,events = sat_tle.find_events(loc,t0,t1,altitude_degrees = ang)\n",
    "    print('The number of passes above location ground horizon between the dates entered is:',np.count_nonzero(events == 1))\n",
    "    \n",
    "    for ti,eventi in zip(t,events):\n",
    "        lati,loni = wgs84.latlon_of(sat_tle.at(ti))\n",
    "        lat_pass_rad = np.radians(lat_pass)\n",
    "        lon_pass_rad = np.radians(lon_pass)\n",
    "        D = re*math.acos(np.sin(lati.radians)*np.sin(lat_pass_rad) + np.cos(lati.radians)*np.cos(lat_pass_rad)*np.cos(lon_pass_rad-loni.radians))\n",
    "        \n",
    "        if show_all_passes:\n",
    "            name = ('rise','culminate','set')[eventi]\n",
    "            print(ti.utc_strftime('%Y %b %d %H:%M:%S'),name,D)\n",
    "        \n",
    "        if D < dist_pass and eventi == 1:\n",
    "            pass_num += 1\n",
    "            \n",
    "            if show_range_passes:\n",
    "                name = ('rise','culminate','set')[eventi]\n",
    "                print(ti.utc_strftime('%Y %b %d %H:%M:%S'),name,D)\n",
    "            #print(eventi)\n",
    "            \n",
    "    print('The number of passes within {:.1f} km is:'.format(dist_pass), pass_num)\n",
    "    \n",
    "    if include_28_56:\n",
    "        t28,events28 = sat_tle.find_events(loc,t0,t1,altitude_degrees = 90-(28))\n",
    "        print('The number of passes within 28 deg scan angle is:', np.count_nonzero(events28 == 1))\n",
    "              \n",
    "        t56,events56 = sat_tle.find_events(loc,t0,t1,altitude_degrees = 90-(56))\n",
    "        print('The number of passes within 56 deg scan angle is:', np.count_nonzero(events56 == 1))\n",
    "    \n",
    "else:\n",
    "    t1 = t0+timedelta(days=days_pass)\n",
    "    #geoc_rv1 = sat_tle.at(t1) \n",
    "    #alt1 = wgs84.height_of(geoc_rv1)\n",
    "    \n",
    "    t,events = sat_tle.find_events(loc,t0,t1,altitude_degrees = ang)\n",
    "    print('The number of passes above location ground horizon in the last {:.0f} days is:'.format(days_pass),np.count_nonzero(events == 1))\n",
    "    \n",
    "    for ti,eventi in zip(t,events):\n",
    "        lati,loni = wgs84.latlon_of(sat_tle.at(ti))\n",
    "        lat_pass_rad = np.radians(lat_pass)\n",
    "        lon_pass_rad = np.radians(lon_pass)\n",
    "        D = re*math.acos(np.sin(lati.radians)*np.sin(lat_pass_rad) + np.cos(lati.radians)*np.cos(lat_pass_rad)*np.cos(lon_pass_rad-loni.radians))\n",
    "        \n",
    "        if show_all_passes:\n",
    "            name = ('rise','culminate','set')[eventi]\n",
    "            print(ti.utc_strftime('%Y %b %d %H:%M:%S'),name,D)\n",
    "        \n",
    "        if D < dist_pass and eventi == 1:\n",
    "            pass_num += 1\n",
    "            #print(eventi)\n",
    "            \n",
    "    print('The number of passes within {:.1f} km is:'.format(dist_pass), pass_num)\n",
    "    "
   ]
  }
 ],
 "metadata": {
  "kernelspec": {
   "display_name": "Python 3",
   "language": "python",
   "name": "python3"
  },
  "language_info": {
   "codemirror_mode": {
    "name": "ipython",
    "version": 3
   },
   "file_extension": ".py",
   "mimetype": "text/x-python",
   "name": "python",
   "nbconvert_exporter": "python",
   "pygments_lexer": "ipython3",
   "version": "3.7.3"
  }
 },
 "nbformat": 4,
 "nbformat_minor": 2
}
