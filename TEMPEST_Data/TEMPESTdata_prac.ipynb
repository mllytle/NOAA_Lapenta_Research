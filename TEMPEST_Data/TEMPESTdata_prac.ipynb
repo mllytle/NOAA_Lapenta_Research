{
 "cells": [
  {
   "cell_type": "code",
   "execution_count": 1,
   "metadata": {},
   "outputs": [],
   "source": [
    "# Init\n",
    "import numpy as np\n",
    "import h5py"
   ]
  },
  {
   "cell_type": "code",
   "execution_count": 2,
   "metadata": {},
   "outputs": [
    {
     "data": {
      "text/plain": [
       "['SCalt',\n",
       " 'SClat',\n",
       " 'SClon',\n",
       " 'SCpitch',\n",
       " 'SCroll',\n",
       " 'SCyaw',\n",
       " 'TA',\n",
       " 'TB',\n",
       " 'UTCtime',\n",
       " 'asds',\n",
       " 'binc',\n",
       " 'blat',\n",
       " 'blon',\n",
       " 'landmask',\n",
       " 'scanang']"
      ]
     },
     "execution_count": 2,
     "metadata": {},
     "output_type": "execute_result"
    }
   ],
   "source": [
    "# Get Data\n",
    "datfile = h5py.File('TEMPEST_L1_pub_20210401T235923_20210402T005535_v2.1.h5', 'r')\n",
    "scan = datfile['scan']\n",
    "list(scan)"
   ]
  },
  {
   "cell_type": "code",
   "execution_count": 3,
   "metadata": {},
   "outputs": [
    {
     "data": {
      "text/plain": [
       "['scan']"
      ]
     },
     "execution_count": 3,
     "metadata": {},
     "output_type": "execute_result"
    }
   ],
   "source": [
    "# scanangdat = f['scan/scanang']\n",
    "# list(scanangdat)\n",
    "list(datfile)"
   ]
  }
 ],
 "metadata": {
  "kernelspec": {
   "display_name": "Python 3",
   "language": "python",
   "name": "python3"
  },
  "language_info": {
   "codemirror_mode": {
    "name": "ipython",
    "version": 3
   },
   "file_extension": ".py",
   "mimetype": "text/x-python",
   "name": "python",
   "nbconvert_exporter": "python",
   "pygments_lexer": "ipython3",
   "version": "3.7.3"
  }
 },
 "nbformat": 4,
 "nbformat_minor": 2
}
